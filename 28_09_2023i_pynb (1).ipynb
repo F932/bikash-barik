{
  "nbformat": 4,
  "nbformat_minor": 0,
  "metadata": {
    "colab": {
      "provenance": []
    },
    "kernelspec": {
      "name": "python3",
      "display_name": "Python 3"
    },
    "language_info": {
      "name": "python"
    }
  },
  "cells": [
    {
      "cell_type": "code",
      "execution_count": null,
      "metadata": {
        "colab": {
          "base_uri": "https://localhost:8080/"
        },
        "id": "wLGjOM0-wdG0",
        "outputId": "5f9033c2-dc6a-4f94-f1a5-8b9802a9e90e"
      },
      "outputs": [
        {
          "output_type": "stream",
          "name": "stdout",
          "text": [
            "hi elicome to language javascriptclass\n"
          ]
        }
      ],
      "source": [
        "language=\"javascript\"\n",
        "print(f'hi elicome to language {language}class')"
      ]
    },
    {
      "cell_type": "code",
      "source": [
        "language=\"javascript\"\n",
        "print('hi elicome to language:',language)"
      ],
      "metadata": {
        "colab": {
          "base_uri": "https://localhost:8080/"
        },
        "id": "4wRndPZA36CS",
        "outputId": "7a549188-3d92-4810-ab45-fed0c50c1f1e"
      },
      "execution_count": null,
      "outputs": [
        {
          "output_type": "stream",
          "name": "stdout",
          "text": [
            "hi elicome to language: javascript\n"
          ]
        }
      ]
    },
    {
      "cell_type": "code",
      "source": [
        "name=input('enter the name:')\n",
        "print('my name is:',name)"
      ],
      "metadata": {
        "colab": {
          "base_uri": "https://localhost:8080/"
        },
        "id": "v4D0w4_B3PiS",
        "outputId": "df60b354-f07b-4dc9-ca2a-bd82cf4dba2a"
      },
      "execution_count": null,
      "outputs": [
        {
          "output_type": "stream",
          "name": "stdout",
          "text": [
            "enter the name:bikas\n",
            "my name is: bikas\n"
          ]
        }
      ]
    },
    {
      "cell_type": "code",
      "source": [
        "name=input('enter the name:')\n",
        "print(f'my name is{name}')"
      ],
      "metadata": {
        "colab": {
          "base_uri": "https://localhost:8080/"
        },
        "id": "745Zd0G44QVz",
        "outputId": "e794c5cc-b8be-48b0-b2cb-6c25ad1a2108"
      },
      "execution_count": null,
      "outputs": [
        {
          "output_type": "stream",
          "name": "stdout",
          "text": [
            "enter the name:sony\n",
            "my name issony\n"
          ]
        }
      ]
    },
    {
      "cell_type": "code",
      "source": [
        "##sum of to number through input method\n",
        "A=int(input('enter the value of A:'))\n",
        "B=int(input('enter the value of B:'))\n",
        "print(type(A),type(B))\n",
        "print('sum of two number:',{A+B})\n"
      ],
      "metadata": {
        "colab": {
          "base_uri": "https://localhost:8080/"
        },
        "id": "mf8J51qp6ggP",
        "outputId": "88aeeca9-0bfd-4b8e-fafd-ae7c524f0085"
      },
      "execution_count": null,
      "outputs": [
        {
          "output_type": "stream",
          "name": "stdout",
          "text": [
            "enter the value of A:20\n",
            "enter the value of B:20\n",
            "<class 'int'> <class 'int'>\n",
            "sum of two number: {40}\n"
          ]
        }
      ]
    },
    {
      "cell_type": "code",
      "source": [
        "A=int(input('enter the value of A:'))\n",
        "B=int(input('enter the value of B:'))\n",
        "print(type(A),type(B))\n",
        "print(f'sum of two number:{A+B}')"
      ],
      "metadata": {
        "colab": {
          "base_uri": "https://localhost:8080/"
        },
        "id": "KPxi9qoZ8GsV",
        "outputId": "6aa68353-db49-428a-b304-62d1e31ddb20"
      },
      "execution_count": null,
      "outputs": [
        {
          "output_type": "stream",
          "name": "stdout",
          "text": [
            "enter the value of A:20\n",
            "enter the value of B:30\n",
            "<class 'int'> <class 'int'>\n",
            "sum of two number:50\n"
          ]
        }
      ]
    },
    {
      "cell_type": "code",
      "source": [
        "A=int(input('enter the value of A:'))\n",
        "print(f'square of number:{A**2}')"
      ],
      "metadata": {
        "colab": {
          "base_uri": "https://localhost:8080/"
        },
        "id": "ME8cAvgDBHKO",
        "outputId": "c532cebe-eb7e-4ed1-f172-89108090b335"
      },
      "execution_count": 1,
      "outputs": [
        {
          "output_type": "stream",
          "name": "stdout",
          "text": [
            "enter the value of A:24\n",
            "square of number:576\n"
          ]
        }
      ]
    },
    {
      "cell_type": "code",
      "source": [
        "name,place,weight ,date_of_birth= bikash,pune,70,1998\n",
        "\n",
        "print(f\"\"\"\"\"my name is:{name}\n",
        "my live at:{place}\n",
        "my weight:{}\n",
        "my date_of_birth:{date_of_birth}\"\"\"\"\")"
      ],
      "metadata": {
        "colab": {
          "base_uri": "https://localhost:8080/",
          "height": 142
        },
        "id": "q9ADmlEi-0Sq",
        "outputId": "3fc70e94-9f28-4e87-a940-ae8d9027c08c"
      },
      "execution_count": null,
      "outputs": [
        {
          "output_type": "error",
          "ename": "SyntaxError",
          "evalue": "ignored",
          "traceback": [
            "\u001b[0;36m  File \u001b[0;32m\"<ipython-input-36-d53f255b7293>\"\u001b[0;36m, line \u001b[0;32m6\u001b[0m\n\u001b[0;31m    my date_of_birth:{date_of_birth}\"\"\"\"\")\u001b[0m\n\u001b[0m                                         ^\u001b[0m\n\u001b[0;31mSyntaxError\u001b[0m\u001b[0;31m:\u001b[0m f-string: empty expression not allowed\n"
          ]
        }
      ]
    },
    {
      "cell_type": "code",
      "source": [
        "name, place, year_of_birth, weight = \"Sunny\", \"Bengaluru\", 1991, 80.88\n",
        "print(f\"\"\"\n",
        "My name is: {name}\n",
        "I live at: {place}\n",
        "I was born in: {year_of_birth}\n",
        "My weight is: {weight} in Kgs\n",
        "\"\"\")"
      ],
      "metadata": {
        "colab": {
          "base_uri": "https://localhost:8080/"
        },
        "id": "8HPUHPAKBk3d",
        "outputId": "3fc73b9e-519f-4283-d40f-859b7cd7a299"
      },
      "execution_count": null,
      "outputs": [
        {
          "output_type": "stream",
          "name": "stdout",
          "text": [
            "\n",
            "My name is: Sunny\n",
            "I live at: Bengaluru\n",
            "I was born in: 1991\n",
            "My weight is: 80.88 in Kgs\n",
            "\n"
          ]
        }
      ]
    },
    {
      "cell_type": "code",
      "source": [
        "##name,address,earn= sunny,22/7,20\n",
        "name=input('enter the name:')\n",
        "address=input('enter the address:')\n",
        "earn= input ('enter the earn')\n",
        "print(f'''i am {name},my address is {address},am earning is:{earn}daily''')"
      ],
      "metadata": {
        "colab": {
          "base_uri": "https://localhost:8080/"
        },
        "id": "wVHU0XF_Es26",
        "outputId": "c49f4471-484a-4695-c9ce-8a56edd4fd2e"
      },
      "execution_count": null,
      "outputs": [
        {
          "output_type": "stream",
          "name": "stdout",
          "text": [
            "enter the name:sunny\n",
            "enter the address:22/7\n",
            "enter the earn20\n",
            "i am sunny,my address is 22/7,am earning is:20daily\n"
          ]
        }
      ]
    },
    {
      "cell_type": "code",
      "source": [
        "A=54\n",
        "B=3\n",
        "if A%B == 0:  # means A is devided by B and the reminder is 0\n",
        "  print(f\"A:{A} is devisible by B:{B}\")\n",
        "else:\n",
        "    print(f\"A:{A} is not devisible by B:{B}\")\n"
      ],
      "metadata": {
        "colab": {
          "base_uri": "https://localhost:8080/"
        },
        "id": "DE1Ss5ePl4x2",
        "outputId": "43b39908-b0b9-4609-ab16-511e564f6d8f"
      },
      "execution_count": null,
      "outputs": [
        {
          "output_type": "stream",
          "name": "stdout",
          "text": [
            "A:54 is devisible by B:3\n"
          ]
        }
      ]
    },
    {
      "cell_type": "code",
      "source": [
        "A=4      #Square root of 4\n",
        "A**(1/2)"
      ],
      "metadata": {
        "colab": {
          "base_uri": "https://localhost:8080/"
        },
        "id": "v3pyACnInC7A",
        "outputId": "2acf1262-6858-4224-b46c-885d7ccc269c"
      },
      "execution_count": null,
      "outputs": [
        {
          "output_type": "execute_result",
          "data": {
            "text/plain": [
              "2.0"
            ]
          },
          "metadata": {},
          "execution_count": 46
        }
      ]
    },
    {
      "cell_type": "code",
      "source": [
        "name=sunny\n",
        "name[-4:-1]"
      ],
      "metadata": {
        "colab": {
          "base_uri": "https://localhost:8080/",
          "height": 194
        },
        "id": "K6N_oebkrTu2",
        "outputId": "92e41457-17ff-48ae-8dbe-e8c965de61a2"
      },
      "execution_count": null,
      "outputs": [
        {
          "output_type": "error",
          "ename": "NameError",
          "evalue": "ignored",
          "traceback": [
            "\u001b[0;31m---------------------------------------------------------------------------\u001b[0m",
            "\u001b[0;31mNameError\u001b[0m                                 Traceback (most recent call last)",
            "\u001b[0;32m<ipython-input-47-642f905c27f9>\u001b[0m in \u001b[0;36m<cell line: 1>\u001b[0;34m()\u001b[0m\n\u001b[0;32m----> 1\u001b[0;31m \u001b[0mname\u001b[0m\u001b[0;34m=\u001b[0m\u001b[0msunny\u001b[0m\u001b[0;34m\u001b[0m\u001b[0;34m\u001b[0m\u001b[0m\n\u001b[0m\u001b[1;32m      2\u001b[0m \u001b[0mname\u001b[0m\u001b[0;34m[\u001b[0m\u001b[0;34m-\u001b[0m\u001b[0;36m4\u001b[0m\u001b[0;34m:\u001b[0m\u001b[0;34m-\u001b[0m\u001b[0;36m1\u001b[0m\u001b[0;34m]\u001b[0m\u001b[0;34m\u001b[0m\u001b[0;34m\u001b[0m\u001b[0m\n",
            "\u001b[0;31mNameError\u001b[0m: name 'sunny' is not defined"
          ]
        }
      ]
    },
    {
      "cell_type": "code",
      "source": [
        "name= 'sunny'"
      ],
      "metadata": {
        "id": "xbVA2Z0QrhHn"
      },
      "execution_count": null,
      "outputs": []
    },
    {
      "cell_type": "code",
      "source": [
        "name[-4:-1]"
      ],
      "metadata": {
        "colab": {
          "base_uri": "https://localhost:8080/",
          "height": 35
        },
        "id": "A3UtgYlcrmnh",
        "outputId": "8a04f5dc-1439-4432-d417-b4c25b5ee667"
      },
      "execution_count": null,
      "outputs": [
        {
          "output_type": "execute_result",
          "data": {
            "text/plain": [
              "'unn'"
            ],
            "application/vnd.google.colaboratory.intrinsic+json": {
              "type": "string"
            }
          },
          "metadata": {},
          "execution_count": 49
        }
      ]
    },
    {
      "cell_type": "code",
      "source": [
        "date=input('enter date of birth of in this format dd/mm/yyyy:')"
      ],
      "metadata": {
        "colab": {
          "base_uri": "https://localhost:8080/"
        },
        "id": "L4fgFbmir8iB",
        "outputId": "92c896c6-0fde-4c4a-93df-e5a0f6d6af3e"
      },
      "execution_count": null,
      "outputs": [
        {
          "name": "stdout",
          "output_type": "stream",
          "text": [
            "enter date of birth of in this format dd/mm/yyyy:08/08/2023\n"
          ]
        }
      ]
    },
    {
      "cell_type": "code",
      "source": [
        "todays_s_date= date[0:2]\n",
        "month=date[3:5]\n",
        "year=date[6:]\n",
        "print(f'its{todays_s_date} of  the month:{month} and year:{year}')"
      ],
      "metadata": {
        "colab": {
          "base_uri": "https://localhost:8080/"
        },
        "id": "rd_M7XZtsU4_",
        "outputId": "cba49a7f-4019-47f0-e17a-149c5cb69d5c"
      },
      "execution_count": null,
      "outputs": [
        {
          "output_type": "stream",
          "name": "stdout",
          "text": [
            "its08 of  the month:08 and year:2023\n"
          ]
        }
      ]
    },
    {
      "cell_type": "code",
      "source": [
        "date=input(\"enter the date in DD/MM/YYYY:\")\n",
        "date.split(\"/\")"
      ],
      "metadata": {
        "colab": {
          "base_uri": "https://localhost:8080/"
        },
        "id": "StfT76-3lDL7",
        "outputId": "0777543e-fc92-4fc1-fc79-cf064e38da8b"
      },
      "execution_count": null,
      "outputs": [
        {
          "name": "stdout",
          "output_type": "stream",
          "text": [
            "enter the date in DD/MM/YYYY:12th/march/1995\n"
          ]
        },
        {
          "output_type": "execute_result",
          "data": {
            "text/plain": [
              "['12th', 'march', '1995']"
            ]
          },
          "metadata": {},
          "execution_count": 2
        }
      ]
    },
    {
      "cell_type": "code",
      "source": [
        "A,B,C=date.split(\"/\")\n",
        "print(A,B,C)"
      ],
      "metadata": {
        "colab": {
          "base_uri": "https://localhost:8080/"
        },
        "id": "SqPcIOSil9kU",
        "outputId": "053d3caf-9c88-4a9b-90c3-5727a01a193b"
      },
      "execution_count": null,
      "outputs": [
        {
          "output_type": "stream",
          "name": "stdout",
          "text": [
            "12th march 1995\n"
          ]
        }
      ]
    },
    {
      "cell_type": "code",
      "source": [
        "total_amount=90+100+100+1000\n",
        "print(f\"cart_total:{total_amount}\")\n",
        "\n",
        "if total_amount>999:\n",
        "  price_after_discount= total_amount*0.7\n",
        "  print(f'pay amount:{price_after_discount}')\n",
        "\n",
        "elif total_amount<=999 and total_amount>499:\n",
        "  price_after_discount= total_amount*0.8\n",
        "  print(f'pay amount:{price_after_discount}')\n",
        "else:\n",
        "  print(f'pay amount:{total_amount}')\n",
        "\n",
        "\n",
        "\n",
        "\n"
      ],
      "metadata": {
        "colab": {
          "base_uri": "https://localhost:8080/"
        },
        "id": "njGlTVXD4Qci",
        "outputId": "65c9ed1a-73d4-47d0-d770-219b4d3ae01f"
      },
      "execution_count": null,
      "outputs": [
        {
          "output_type": "stream",
          "name": "stdout",
          "text": [
            "cart_total:1290\n",
            "pay amount:902.9999999999999\n"
          ]
        }
      ]
    },
    {
      "cell_type": "code",
      "source": [
        "cost_of_items=[100,200,129,456]\n",
        "\n",
        "total_sum=0\n",
        "\n",
        "for cost in cost_of_items:\n",
        " print (f\"{total_sum}={total_sum}+{cost}\")\n",
        "\n",
        " print( f\"after adding total_sum={total_sum}\")\n",
        " print(\"-----\")\n",
        "print(f\"total amount to paid:{total_sum}\")\n",
        "\n",
        "\n",
        "\n"
      ],
      "metadata": {
        "colab": {
          "base_uri": "https://localhost:8080/"
        },
        "id": "ubLquUy_T_GV",
        "outputId": "4ad49292-bf56-44a9-d833-5f73fa71ef57"
      },
      "execution_count": null,
      "outputs": [
        {
          "output_type": "stream",
          "name": "stdout",
          "text": [
            "0=0+100\n",
            "after adding total_sum=0\n",
            "-----\n",
            "0=0+200\n",
            "after adding total_sum=0\n",
            "-----\n",
            "0=0+129\n",
            "after adding total_sum=0\n",
            "-----\n",
            "0=0+456\n",
            "after adding total_sum=0\n",
            "-----\n",
            "total amount to paid:0\n"
          ]
        }
      ]
    },
    {
      "cell_type": "code",
      "source": [
        "cost_of_items=[100,200,129,456]\n",
        "total_sum=0\n",
        "budget=2000\n",
        "\n",
        "for cost in cost_of_items:\n",
        "  if total_sum>budget:\n",
        "   break\n",
        "  else:\n",
        "    total_sum=total_sum + cost\n",
        "    print(f\"total amount to be paid:{total_sum}\")\n",
        "\n"
      ],
      "metadata": {
        "colab": {
          "base_uri": "https://localhost:8080/"
        },
        "id": "3RC53T65nadj",
        "outputId": "88ff5c94-0933-4ff9-f931-2130b63de96d"
      },
      "execution_count": null,
      "outputs": [
        {
          "output_type": "stream",
          "name": "stdout",
          "text": [
            "total amount to be paid:100\n",
            "total amount to be paid:300\n",
            "total amount to be paid:429\n",
            "total amount to be paid:885\n"
          ]
        }
      ]
    },
    {
      "cell_type": "code",
      "source": [
        "for i in range(1,100):\n",
        "  print(i)\n",
        "  if i>50:\n",
        "    break"
      ],
      "metadata": {
        "colab": {
          "base_uri": "https://localhost:8080/"
        },
        "id": "iRvdwVzVpJvJ",
        "outputId": "dfc7bb4e-4953-4cc0-a55d-655c6b2cc1e3"
      },
      "execution_count": null,
      "outputs": [
        {
          "output_type": "stream",
          "name": "stdout",
          "text": [
            "1\n",
            "2\n",
            "3\n",
            "4\n",
            "5\n",
            "6\n",
            "7\n",
            "8\n",
            "9\n",
            "10\n",
            "11\n",
            "12\n",
            "13\n",
            "14\n",
            "15\n",
            "16\n",
            "17\n",
            "18\n",
            "19\n",
            "20\n",
            "21\n",
            "22\n",
            "23\n",
            "24\n",
            "25\n",
            "26\n",
            "27\n",
            "28\n",
            "29\n",
            "30\n",
            "31\n",
            "32\n",
            "33\n",
            "34\n",
            "35\n",
            "36\n",
            "37\n",
            "38\n",
            "39\n",
            "40\n",
            "41\n",
            "42\n",
            "43\n",
            "44\n",
            "45\n",
            "46\n",
            "47\n",
            "48\n",
            "49\n",
            "50\n",
            "51\n"
          ]
        }
      ]
    },
    {
      "cell_type": "code",
      "source": [
        "def tes"
      ],
      "metadata": {
        "id": "aMKcBhz2P2P0"
      },
      "execution_count": null,
      "outputs": []
    },
    {
      "cell_type": "code",
      "source": [
        "def test5(*args):\n",
        "        l= []\n",
        "        for i in args:\n",
        "            l.append(i)\n",
        "        return l\n"
      ],
      "metadata": {
        "id": "xK3vdkdddVa1"
      },
      "execution_count": null,
      "outputs": []
    },
    {
      "cell_type": "code",
      "source": [
        "test5(17,15,13,15)"
      ],
      "metadata": {
        "colab": {
          "base_uri": "https://localhost:8080/"
        },
        "id": "-7XFFfV2eWoY",
        "outputId": "fcb7694d-1ee0-45a2-c60f-9f6693319832"
      },
      "execution_count": null,
      "outputs": [
        {
          "output_type": "execute_result",
          "data": {
            "text/plain": [
              "[17, 15, 13, 15]"
            ]
          },
          "metadata": {},
          "execution_count": 5
        }
      ]
    },
    {
      "cell_type": "code",
      "source": [
        "l"
      ],
      "metadata": {
        "colab": {
          "base_uri": "https://localhost:8080/",
          "height": 177
        },
        "id": "XBMw0ORdes5p",
        "outputId": "7ab89e3b-0c0a-498b-aa90-bb0b304b4e13"
      },
      "execution_count": null,
      "outputs": [
        {
          "output_type": "error",
          "ename": "NameError",
          "evalue": "ignored",
          "traceback": [
            "\u001b[0;31m---------------------------------------------------------------------------\u001b[0m",
            "\u001b[0;31mNameError\u001b[0m                                 Traceback (most recent call last)",
            "\u001b[0;32m<ipython-input-6-cde25b5e10ad>\u001b[0m in \u001b[0;36m<cell line: 1>\u001b[0;34m()\u001b[0m\n\u001b[0;32m----> 1\u001b[0;31m \u001b[0ml\u001b[0m\u001b[0;34m\u001b[0m\u001b[0;34m\u001b[0m\u001b[0m\n\u001b[0m",
            "\u001b[0;31mNameError\u001b[0m: name 'l' is not defined"
          ]
        }
      ]
    },
    {
      "cell_type": "code",
      "source": [
        "d={'course':'python','fees':'8000','duration':'2month'}"
      ],
      "metadata": {
        "id": "SzgGZdKPbQyr"
      },
      "execution_count": null,
      "outputs": []
    },
    {
      "cell_type": "code",
      "source": [
        "n=d.get('course')\n",
        "print(n)"
      ],
      "metadata": {
        "colab": {
          "base_uri": "https://localhost:8080/"
        },
        "id": "zh7PyiN_cKVu",
        "outputId": "2753c528-d4c9-4f1d-8002-5e6d91ef5d56"
      },
      "execution_count": null,
      "outputs": [
        {
          "output_type": "stream",
          "name": "stdout",
          "text": [
            "python\n"
          ]
        }
      ]
    },
    {
      "cell_type": "code",
      "source": [
        "d={'name':'python','fees':'8000','duration':'2month'}"
      ],
      "metadata": {
        "id": "Sns6DJWPdQDA"
      },
      "execution_count": null,
      "outputs": []
    },
    {
      "cell_type": "code",
      "source": [
        "for a in d.keys():\n",
        "  print (a)"
      ],
      "metadata": {
        "colab": {
          "base_uri": "https://localhost:8080/"
        },
        "id": "YSe-fg2ifAEN",
        "outputId": "005d7b50-7203-49a1-b853-be4b80a4652d"
      },
      "execution_count": null,
      "outputs": [
        {
          "output_type": "stream",
          "name": "stdout",
          "text": [
            "course\n",
            "fees\n",
            "duration\n"
          ]
        }
      ]
    },
    {
      "cell_type": "code",
      "source": [
        "for a in d.values(): #values\n",
        "  print (a)"
      ],
      "metadata": {
        "colab": {
          "base_uri": "https://localhost:8080/"
        },
        "id": "-KNm40cdfLNR",
        "outputId": "9331ac65-35aa-45cb-b17a-7eee799474dc"
      },
      "execution_count": null,
      "outputs": [
        {
          "output_type": "stream",
          "name": "stdout",
          "text": [
            "python\n",
            "8000\n",
            "2month\n"
          ]
        }
      ]
    },
    {
      "cell_type": "code",
      "source": [
        "#items\n",
        "for a,b in d.items():\n",
        "  print(a,b)\n"
      ],
      "metadata": {
        "colab": {
          "base_uri": "https://localhost:8080/"
        },
        "id": "DB9e5AuIfWBQ",
        "outputId": "bdcc7d85-f51a-4398-e4c1-a49521dbd1af"
      },
      "execution_count": null,
      "outputs": [
        {
          "output_type": "stream",
          "name": "stdout",
          "text": [
            "course python\n",
            "fees 8000\n",
            "duration 2month\n"
          ]
        }
      ]
    },
    {
      "cell_type": "code",
      "source": [
        "##del()\n",
        "del d['fees']\n",
        "\n",
        "print(d)\n"
      ],
      "metadata": {
        "colab": {
          "base_uri": "https://localhost:8080/",
          "height": 229
        },
        "id": "KvFl7hY1f5HL",
        "outputId": "3a53e4a5-32ce-42b8-9293-e48f2b24e843"
      },
      "execution_count": null,
      "outputs": [
        {
          "output_type": "error",
          "ename": "KeyError",
          "evalue": "ignored",
          "traceback": [
            "\u001b[0;31m---------------------------------------------------------------------------\u001b[0m",
            "\u001b[0;31mKeyError\u001b[0m                                  Traceback (most recent call last)",
            "\u001b[0;32m<ipython-input-25-4b7a085bec9c>\u001b[0m in \u001b[0;36m<cell line: 2>\u001b[0;34m()\u001b[0m\n\u001b[1;32m      1\u001b[0m \u001b[0;31m##del()\u001b[0m\u001b[0;34m\u001b[0m\u001b[0;34m\u001b[0m\u001b[0m\n\u001b[0;32m----> 2\u001b[0;31m \u001b[0;32mdel\u001b[0m \u001b[0md\u001b[0m\u001b[0;34m[\u001b[0m\u001b[0;34m'fees'\u001b[0m\u001b[0;34m]\u001b[0m\u001b[0;34m\u001b[0m\u001b[0;34m\u001b[0m\u001b[0m\n\u001b[0m\u001b[1;32m      3\u001b[0m \u001b[0;34m\u001b[0m\u001b[0m\n\u001b[1;32m      4\u001b[0m \u001b[0mprint\u001b[0m\u001b[0;34m(\u001b[0m\u001b[0md\u001b[0m\u001b[0;34m)\u001b[0m\u001b[0;34m\u001b[0m\u001b[0;34m\u001b[0m\u001b[0m\n",
            "\u001b[0;31mKeyError\u001b[0m: 'fees'"
          ]
        }
      ]
    },
    {
      "cell_type": "code",
      "source": [
        "d.pop[duration]\n",
        "print(d)"
      ],
      "metadata": {
        "colab": {
          "base_uri": "https://localhost:8080/",
          "height": 194
        },
        "id": "i6DeD3tHgacO",
        "outputId": "7bbd8672-c702-4824-a3c3-3865fc700990"
      },
      "execution_count": null,
      "outputs": [
        {
          "output_type": "error",
          "ename": "NameError",
          "evalue": "ignored",
          "traceback": [
            "\u001b[0;31m---------------------------------------------------------------------------\u001b[0m",
            "\u001b[0;31mNameError\u001b[0m                                 Traceback (most recent call last)",
            "\u001b[0;32m<ipython-input-26-92ed5f1d4fbf>\u001b[0m in \u001b[0;36m<cell line: 1>\u001b[0;34m()\u001b[0m\n\u001b[0;32m----> 1\u001b[0;31m \u001b[0md\u001b[0m\u001b[0;34m.\u001b[0m\u001b[0mpop\u001b[0m\u001b[0;34m[\u001b[0m\u001b[0mduration\u001b[0m\u001b[0;34m]\u001b[0m\u001b[0;34m\u001b[0m\u001b[0;34m\u001b[0m\u001b[0m\n\u001b[0m\u001b[1;32m      2\u001b[0m \u001b[0mprint\u001b[0m\u001b[0;34m(\u001b[0m\u001b[0md\u001b[0m\u001b[0;34m)\u001b[0m\u001b[0;34m\u001b[0m\u001b[0;34m\u001b[0m\u001b[0m\n",
            "\u001b[0;31mNameError\u001b[0m: name 'duration' is not defined"
          ]
        }
      ]
    },
    {
      "cell_type": "code",
      "source": [
        "t=(20,30,40)\n",
        "a=t[2]\n",
        "print(a)"
      ],
      "metadata": {
        "colab": {
          "base_uri": "https://localhost:8080/"
        },
        "id": "l_vJD-UblP5A",
        "outputId": "ef8ad913-31f1-4fa3-ef0a-07f6a79ccdd3"
      },
      "execution_count": 29,
      "outputs": [
        {
          "output_type": "stream",
          "name": "stdout",
          "text": [
            "40\n"
          ]
        }
      ]
    },
    {
      "cell_type": "code",
      "source": [
        "t=(20,30,40,50)"
      ],
      "metadata": {
        "id": "b5RCdorLl8OU"
      },
      "execution_count": 30,
      "outputs": []
    },
    {
      "cell_type": "code",
      "source": [
        "import module1 as m\n",
        "print(m.sum(10,20))"
      ],
      "metadata": {
        "colab": {
          "base_uri": "https://localhost:8080/",
          "height": 333
        },
        "id": "FTj8yovJQgLE",
        "outputId": "bf1448a3-f976-4d00-af40-f16fc4f66ca7"
      },
      "execution_count": 5,
      "outputs": [
        {
          "output_type": "error",
          "ename": "ModuleNotFoundError",
          "evalue": "ignored",
          "traceback": [
            "\u001b[0;31m---------------------------------------------------------------------------\u001b[0m",
            "\u001b[0;31mModuleNotFoundError\u001b[0m                       Traceback (most recent call last)",
            "\u001b[0;32m<ipython-input-5-8a7f7263d69a>\u001b[0m in \u001b[0;36m<cell line: 1>\u001b[0;34m()\u001b[0m\n\u001b[0;32m----> 1\u001b[0;31m \u001b[0;32mimport\u001b[0m \u001b[0mmodule1\u001b[0m \u001b[0;32mas\u001b[0m \u001b[0mm\u001b[0m\u001b[0;34m\u001b[0m\u001b[0;34m\u001b[0m\u001b[0m\n\u001b[0m\u001b[1;32m      2\u001b[0m \u001b[0mprint\u001b[0m\u001b[0;34m(\u001b[0m\u001b[0mm\u001b[0m\u001b[0;34m.\u001b[0m\u001b[0msum\u001b[0m\u001b[0;34m(\u001b[0m\u001b[0;36m10\u001b[0m\u001b[0;34m,\u001b[0m\u001b[0;36m20\u001b[0m\u001b[0;34m)\u001b[0m\u001b[0;34m)\u001b[0m\u001b[0;34m\u001b[0m\u001b[0;34m\u001b[0m\u001b[0m\n",
            "\u001b[0;31mModuleNotFoundError\u001b[0m: No module named 'module1'",
            "",
            "\u001b[0;31m---------------------------------------------------------------------------\u001b[0;32m\nNOTE: If your import is failing due to a missing package, you can\nmanually install dependencies using either !pip or !apt.\n\nTo view examples of installing some common dependencies, click the\n\"Open Examples\" button below.\n\u001b[0;31m---------------------------------------------------------------------------\u001b[0m\n"
          ],
          "errorDetails": {
            "actions": [
              {
                "action": "open_url",
                "actionText": "Open Examples",
                "url": "/notebooks/snippets/importing_libraries.ipynb"
              }
            ]
          }
        }
      ]
    },
    {
      "cell_type": "code",
      "source": [
        "n=[17, 15, 13, 15]"
      ],
      "metadata": {
        "id": "N0N2_1T6ea4a"
      },
      "execution_count": 12,
      "outputs": []
    },
    {
      "cell_type": "code",
      "source": [
        "import random\n",
        "n=random.randit(15,13)\n",
        "print(n)"
      ],
      "metadata": {
        "colab": {
          "base_uri": "https://localhost:8080/",
          "height": 211
        },
        "id": "TY9Kqa-Fb1rM",
        "outputId": "22d4cce1-281d-4879-8d31-dc833f3829fc"
      },
      "execution_count": 13,
      "outputs": [
        {
          "output_type": "error",
          "ename": "AttributeError",
          "evalue": "ignored",
          "traceback": [
            "\u001b[0;31m---------------------------------------------------------------------------\u001b[0m",
            "\u001b[0;31mAttributeError\u001b[0m                            Traceback (most recent call last)",
            "\u001b[0;32m<ipython-input-13-d6c0ee7bec48>\u001b[0m in \u001b[0;36m<cell line: 2>\u001b[0;34m()\u001b[0m\n\u001b[1;32m      1\u001b[0m \u001b[0;32mimport\u001b[0m \u001b[0mrandom\u001b[0m\u001b[0;34m\u001b[0m\u001b[0;34m\u001b[0m\u001b[0m\n\u001b[0;32m----> 2\u001b[0;31m \u001b[0mn\u001b[0m\u001b[0;34m=\u001b[0m\u001b[0mrandom\u001b[0m\u001b[0;34m.\u001b[0m\u001b[0mrandit\u001b[0m\u001b[0;34m(\u001b[0m\u001b[0;36m15\u001b[0m\u001b[0;34m,\u001b[0m\u001b[0;36m13\u001b[0m\u001b[0;34m)\u001b[0m\u001b[0;34m\u001b[0m\u001b[0;34m\u001b[0m\u001b[0m\n\u001b[0m\u001b[1;32m      3\u001b[0m \u001b[0mprint\u001b[0m\u001b[0;34m(\u001b[0m\u001b[0mn\u001b[0m\u001b[0;34m)\u001b[0m\u001b[0;34m\u001b[0m\u001b[0;34m\u001b[0m\u001b[0m\n",
            "\u001b[0;31mAttributeError\u001b[0m: module 'random' has no attribute 'randit'"
          ]
        }
      ]
    },
    {
      "cell_type": "code",
      "source": [
        "n=[17, 15, 13, 15]\n",
        "lc=random.choice(n)\n",
        "print(lc)"
      ],
      "metadata": {
        "colab": {
          "base_uri": "https://localhost:8080/"
        },
        "id": "G30lX_MTd8o-",
        "outputId": "a8cab705-9a24-429f-ae9e-00972ee14230"
      },
      "execution_count": 11,
      "outputs": [
        {
          "output_type": "stream",
          "name": "stdout",
          "text": [
            "17\n"
          ]
        }
      ]
    },
    {
      "cell_type": "code",
      "source": [
        "r=random.random()\n",
        "print(r)"
      ],
      "metadata": {
        "colab": {
          "base_uri": "https://localhost:8080/"
        },
        "id": "fS2IS5DMe3oD",
        "outputId": "a80916d5-e346-4df0-ac64-fa2c9d62582a"
      },
      "execution_count": 15,
      "outputs": [
        {
          "output_type": "stream",
          "name": "stdout",
          "text": [
            "0.14346769462145426\n"
          ]
        }
      ]
    },
    {
      "cell_type": "code",
      "source": [
        "import datetime\n",
        "x=datetime.datetime.now()\n",
        "print(x)"
      ],
      "metadata": {
        "colab": {
          "base_uri": "https://localhost:8080/"
        },
        "id": "1v9bMQI0iYME",
        "outputId": "12b95212-5242-4919-a346-41d541898636"
      },
      "execution_count": 19,
      "outputs": [
        {
          "output_type": "stream",
          "name": "stdout",
          "text": [
            "2023-10-01 18:43:00.794626\n"
          ]
        }
      ]
    },
    {
      "cell_type": "code",
      "source": [
        "print (datetime.datetime(2023,10,1))"
      ],
      "metadata": {
        "colab": {
          "base_uri": "https://localhost:8080/"
        },
        "id": "7UYXAFkTj58x",
        "outputId": "e94d6140-2c24-49cd-b128-efe1ddeebe7c"
      },
      "execution_count": 20,
      "outputs": [
        {
          "output_type": "stream",
          "name": "stdout",
          "text": [
            "2023-10-01 00:00:00\n"
          ]
        }
      ]
    },
    {
      "cell_type": "code",
      "source": [
        "import datetime\n",
        "x=datetime.datetime.now()\n",
        "m=x.strftime('%y')\n",
        "print(x)\n",
        "print(m)"
      ],
      "metadata": {
        "colab": {
          "base_uri": "https://localhost:8080/"
        },
        "id": "EZ1qVBLek3d1",
        "outputId": "e7f1acf1-0fcc-4ce9-ddfb-c237482b446c"
      },
      "execution_count": 22,
      "outputs": [
        {
          "output_type": "stream",
          "name": "stdout",
          "text": [
            "2023-10-01 18:50:56.734010\n",
            "23\n"
          ]
        }
      ]
    },
    {
      "cell_type": "code",
      "source": [
        "import random"
      ],
      "metadata": {
        "id": "scLsxADhmocX"
      },
      "execution_count": null,
      "outputs": []
    },
    {
      "cell_type": "code",
      "source": [
        "for i in range(1,11):\n",
        "  print('*'*i)"
      ],
      "metadata": {
        "colab": {
          "base_uri": "https://localhost:8080/"
        },
        "id": "-Iocp0kb022i",
        "outputId": "0687263d-726c-47e7-b95b-e82495d6a457"
      },
      "execution_count": 4,
      "outputs": [
        {
          "output_type": "stream",
          "name": "stdout",
          "text": [
            "*\n",
            "**\n",
            "***\n",
            "****\n",
            "*****\n",
            "******\n",
            "*******\n",
            "********\n",
            "*********\n",
            "**********\n"
          ]
        }
      ]
    },
    {
      "cell_type": "code",
      "source": [
        "for i in range (5):\n",
        "    print (i)"
      ],
      "metadata": {
        "id": "MEtzZaJtCWXI"
      },
      "execution_count": null,
      "outputs": []
    },
    {
      "cell_type": "code",
      "source": [
        "for i in range (5):\n",
        "    print (i+1)"
      ],
      "metadata": {
        "id": "lw0NfxMSCaEs"
      },
      "execution_count": null,
      "outputs": []
    },
    {
      "cell_type": "code",
      "source": [
        "i=1\n",
        "while (i<=5):\n",
        "    print(i)\n",
        "    i+=1\n",
        ""
      ],
      "metadata": {
        "id": "6Vo7qYPOCdb4"
      },
      "execution_count": null,
      "outputs": []
    },
    {
      "cell_type": "code",
      "source": [
        "for i in range(5):\n",
        "    print('*'*(i+1))"
      ],
      "metadata": {
        "id": "c15AJ4dZCf74"
      },
      "execution_count": null,
      "outputs": []
    },
    {
      "cell_type": "code",
      "source": [
        "for i in range(1,6):\n",
        "    print('*'*i)"
      ],
      "metadata": {
        "id": "HfiBcHIKChz3"
      },
      "execution_count": null,
      "outputs": []
    },
    {
      "cell_type": "code",
      "source": [],
      "metadata": {
        "id": "ccoQPa0WCWLO"
      },
      "execution_count": null,
      "outputs": []
    },
    {
      "cell_type": "code",
      "source": [
        "num=int(input())\n",
        "l=0\n",
        "if len(num)==5:\n",
        "    for i in range(len(num)):\n",
        "        l=l+int(i)\n",
        "    print(i)"
      ],
      "metadata": {
        "colab": {
          "base_uri": "https://localhost:8080/",
          "height": 263
        },
        "id": "JaVwVQuRSAqZ",
        "outputId": "b5ead47f-4dda-4c4d-f4b7-4b9fe4345c3b"
      },
      "execution_count": 4,
      "outputs": [
        {
          "name": "stdout",
          "output_type": "stream",
          "text": [
            "1\n"
          ]
        },
        {
          "output_type": "error",
          "ename": "TypeError",
          "evalue": "ignored",
          "traceback": [
            "\u001b[0;31m---------------------------------------------------------------------------\u001b[0m",
            "\u001b[0;31mTypeError\u001b[0m                                 Traceback (most recent call last)",
            "\u001b[0;32m<ipython-input-4-9c62ad005c80>\u001b[0m in \u001b[0;36m<cell line: 3>\u001b[0;34m()\u001b[0m\n\u001b[1;32m      1\u001b[0m \u001b[0mnum\u001b[0m\u001b[0;34m=\u001b[0m\u001b[0mint\u001b[0m\u001b[0;34m(\u001b[0m\u001b[0minput\u001b[0m\u001b[0;34m(\u001b[0m\u001b[0;34m)\u001b[0m\u001b[0;34m)\u001b[0m\u001b[0;34m\u001b[0m\u001b[0;34m\u001b[0m\u001b[0m\n\u001b[1;32m      2\u001b[0m \u001b[0ml\u001b[0m\u001b[0;34m=\u001b[0m\u001b[0;36m0\u001b[0m\u001b[0;34m\u001b[0m\u001b[0;34m\u001b[0m\u001b[0m\n\u001b[0;32m----> 3\u001b[0;31m \u001b[0;32mif\u001b[0m \u001b[0mlen\u001b[0m\u001b[0;34m(\u001b[0m\u001b[0mnum\u001b[0m\u001b[0;34m)\u001b[0m\u001b[0;34m==\u001b[0m\u001b[0;36m5\u001b[0m\u001b[0;34m:\u001b[0m\u001b[0;34m\u001b[0m\u001b[0;34m\u001b[0m\u001b[0m\n\u001b[0m\u001b[1;32m      4\u001b[0m     \u001b[0;32mfor\u001b[0m \u001b[0mi\u001b[0m \u001b[0;32min\u001b[0m \u001b[0mrange\u001b[0m\u001b[0;34m(\u001b[0m\u001b[0mlen\u001b[0m\u001b[0;34m(\u001b[0m\u001b[0mnum\u001b[0m\u001b[0;34m)\u001b[0m\u001b[0;34m)\u001b[0m\u001b[0;34m:\u001b[0m\u001b[0;34m\u001b[0m\u001b[0;34m\u001b[0m\u001b[0m\n\u001b[1;32m      5\u001b[0m         \u001b[0ml\u001b[0m\u001b[0;34m=\u001b[0m\u001b[0ml\u001b[0m\u001b[0;34m+\u001b[0m\u001b[0mint\u001b[0m\u001b[0;34m(\u001b[0m\u001b[0mi\u001b[0m\u001b[0;34m)\u001b[0m\u001b[0;34m\u001b[0m\u001b[0;34m\u001b[0m\u001b[0m\n",
            "\u001b[0;31mTypeError\u001b[0m: object of type 'int' has no len()"
          ]
        }
      ]
    },
    {
      "cell_type": "code",
      "source": [
        "num=input()\n",
        "d1=int(num[0])\n",
        "d2=int(num[1])\n",
        "d3=int(num[2])\n",
        "d4=int(num[3])\n",
        "d5=int(num[4])\n",
        "print(d1+d2+d3+d4+d4)"
      ],
      "metadata": {
        "colab": {
          "base_uri": "https://localhost:8080/"
        },
        "id": "UXVgw73NSY-E",
        "outputId": "eb88003a-235e-476b-9daf-d387ef0eed1a"
      },
      "execution_count": 5,
      "outputs": [
        {
          "output_type": "stream",
          "name": "stdout",
          "text": [
            "123458\n",
            "14\n"
          ]
        }
      ]
    },
    {
      "cell_type": "code",
      "source": [
        "\\https://mango-teacher-ljvvv.ineuron.app/files/work/questions.ipynb?_xsrf=2%7C1c08f290%7C161376894115f83d6abfe2b8ec3b9307%7C1696239861"
      ],
      "metadata": {
        "id": "1c1VqQCSTKf3"
      },
      "execution_count": null,
      "outputs": []
    },
    {
      "cell_type": "code",
      "source": [
        "for i in range (5):\n",
        "    print (i)"
      ],
      "metadata": {
        "id": "d35K80phkJp5"
      },
      "execution_count": null,
      "outputs": []
    },
    {
      "cell_type": "code",
      "source": [
        "for i in range (5):\n",
        "    print (i+1)"
      ],
      "metadata": {
        "id": "T-Pu3tRzkPmz"
      },
      "execution_count": null,
      "outputs": []
    },
    {
      "cell_type": "code",
      "source": [
        "for i in range (0,5):\n",
        "    print (i+1)"
      ],
      "metadata": {
        "id": "yrv2NKlJkS4w"
      },
      "execution_count": null,
      "outputs": []
    },
    {
      "cell_type": "code",
      "source": [
        "i=1\n",
        "while (i<=5):\n",
        "    print(i)\n",
        "    i+=1"
      ],
      "metadata": {
        "id": "vqGArJxkkYXU"
      },
      "execution_count": null,
      "outputs": []
    },
    {
      "cell_type": "code",
      "source": [
        "for i in range(5):\n",
        "    print('*'*(i+1))"
      ],
      "metadata": {
        "id": "kn5Ywr5okguG"
      },
      "execution_count": null,
      "outputs": []
    },
    {
      "cell_type": "code",
      "source": [
        "for i in range(1,6):\n",
        "    print('*'*i)"
      ],
      "metadata": {
        "id": "TNGARqNbkmKM"
      },
      "execution_count": null,
      "outputs": []
    },
    {
      "cell_type": "code",
      "source": [
        "A=int(input('enter the value of A:'))\n",
        "print(f'square of number:{A**2}')"
      ],
      "metadata": {
        "id": "l31X_huxkpVt"
      },
      "execution_count": null,
      "outputs": []
    },
    {
      "cell_type": "code",
      "source": [
        "A=int(input('enter the value of A:'))\n",
        "S=A**2\n",
        "print(f'square of number:{S}')"
      ],
      "metadata": {
        "id": "tkKLsogbksNw"
      },
      "execution_count": null,
      "outputs": []
    },
    {
      "cell_type": "code",
      "source": [
        "n=int(input())\n",
        "print(n**2)"
      ],
      "metadata": {
        "id": "GUBx_6M1kwZL"
      },
      "execution_count": null,
      "outputs": []
    },
    {
      "cell_type": "code",
      "source": [
        "A=int(input('enter the value of A:'))\n",
        "B=int(input('enter the value of B:'))\n",
        "print(type(A),type(B))\n",
        "print(f'sum of two number:{A+B}')"
      ],
      "metadata": {
        "id": "0thP4YJhk160"
      },
      "execution_count": null,
      "outputs": []
    },
    {
      "cell_type": "code",
      "source": [
        "A=str(input('enter the word:'))\n",
        "b=str(input('enter the word:'))\n",
        "print(f'the word is :{A,b}')"
      ],
      "metadata": {
        "id": "UkhocZLFk5Sh"
      },
      "execution_count": null,
      "outputs": []
    },
    {
      "cell_type": "code",
      "source": [
        "A=str(input('enter the word:'))\n",
        "b=str(input('enter the word:'))\n",
        "print(A,' ',b)"
      ],
      "metadata": {
        "id": "MkDfcd_Bk9KG"
      },
      "execution_count": null,
      "outputs": []
    },
    {
      "cell_type": "code",
      "source": [
        "print(input(),input())"
      ],
      "metadata": {
        "id": "4elLfx4clBS8"
      },
      "execution_count": null,
      "outputs": []
    },
    {
      "cell_type": "code",
      "source": [
        "s=input('enter the value:')\n",
        "#od30323\n",
        "print(s[0:2])"
      ],
      "metadata": {
        "id": "rmByL2vvlD0y"
      },
      "execution_count": null,
      "outputs": []
    },
    {
      "cell_type": "code",
      "source": [
        "A=int(input('enter the value of A:'))\n",
        "B=int(input('enter the value of B:'))\n",
        "c=int(input('enter the value of C:'))\n",
        "print(f'sum of three number:{A+B+c}')"
      ],
      "metadata": {
        "id": "2FMTvh6-lG6p"
      },
      "execution_count": null,
      "outputs": []
    },
    {
      "cell_type": "code",
      "source": [
        "num=input()\n",
        "d1=int(num[0])\n",
        "d2=int(num[1])\n",
        "d3=int(num[2])\n",
        "d4=int(num[3])\n",
        "d5=int(num[4])\n",
        "print(d1+d2+d3+d4+d4)"
      ],
      "metadata": {
        "id": "frqnZoVOlK5m"
      },
      "execution_count": null,
      "outputs": []
    },
    {
      "cell_type": "code",
      "source": [
        "num=(input())\n",
        "l=0\n",
        "if len(num)==5:\n",
        "    for i in range(len(num)):\n",
        "        l=l+int(i)\n",
        "    print(l)"
      ],
      "metadata": {
        "id": "q6vq5cs9lOmH"
      },
      "execution_count": null,
      "outputs": []
    },
    {
      "cell_type": "code",
      "source": [
        "a=input('please enter your num:')\n",
        "count=0\n",
        "for i in (a):\n",
        "    count += int(i)\n",
        "count"
      ],
      "metadata": {
        "id": "1m-9C1POlSv5"
      },
      "execution_count": null,
      "outputs": []
    },
    {
      "cell_type": "code",
      "source": [
        "word1=str(input('enter the word:'))\n",
        "word2=str(input('enter the word:'))\n",
        "word3=str(input('enter the word:'))\n",
        "word4=str(input('enter the word:'))\n",
        "word5=str(input('enter the word:'))\n",
        "print(word1+','+word2+' ,'+word3+', '+word4+', '+word5+', ')"
      ],
      "metadata": {
        "id": "KVvzpk5alV1x"
      },
      "execution_count": null,
      "outputs": []
    },
    {
      "cell_type": "code",
      "source": [
        "word1=str(input('enter the word:'))\n",
        "word2=str(input('enter the word:'))\n",
        "word3=str(input('enter the word:'))\n",
        "word4=str(input('enter the word:'))\n",
        "word5=str(input('enter the word:'))\n",
        "space= ''\n",
        "stop='.'\n",
        "sentence=print(word1+','+word2+' ,'+word3+', '+word4+', '+word5+', ')\n",
        "print(sentence)"
      ],
      "metadata": {
        "id": "dYSkOoxUlas_"
      },
      "execution_count": null,
      "outputs": []
    },
    {
      "cell_type": "code",
      "source": [
        "a=input()\n",
        "print(a[6:])"
      ],
      "metadata": {
        "id": "78y0PpMxleza"
      },
      "execution_count": null,
      "outputs": []
    },
    {
      "cell_type": "code",
      "source": [
        "num=[1,2,3,4,5]\n",
        "prod=1\n",
        "for i in num:\n",
        "     if i !=',':\n",
        "         prod=prod*int(i)\n",
        "print(prod)\n",
        ""
      ],
      "metadata": {
        "id": "jw91QrLzlif5"
      },
      "execution_count": null,
      "outputs": []
    },
    {
      "cell_type": "code",
      "source": [
        "num=[1,2,3,4,5]\n",
        "prod=1\n",
        "for i in num:\n",
        "    prod=prod*int(i)\n",
        "print(prod)"
      ],
      "metadata": {
        "id": "sfsey6Vblpu1"
      },
      "execution_count": null,
      "outputs": []
    },
    {
      "cell_type": "code",
      "source": [
        "x=int(input())\n",
        "y=int(input())\n",
        "print(x**y)"
      ],
      "metadata": {
        "id": "8ngwxKn8lsgF"
      },
      "execution_count": null,
      "outputs": []
    },
    {
      "cell_type": "code",
      "source": [
        "x=int(input())\n",
        "y=int(input())\n",
        "res=x**y\n",
        "res_str=str(res)\n",
        "print(len(res_str))"
      ],
      "metadata": {
        "id": "7PQGNiy-lxqk"
      },
      "execution_count": null,
      "outputs": []
    },
    {
      "cell_type": "code",
      "source": [
        "s=input()\n",
        "n=len(s)\n",
        "if n%2==0:\n",
        "    if s[n-1]=='.':\n",
        "        s=s[:-1]\n",
        "    else:\n",
        "        s+'.'\n",
        "n=int((len(s)-1)/2)\n",
        "print(s[n-1:n+2])"
      ],
      "metadata": {
        "id": "02AKELT-l2vj"
      },
      "execution_count": null,
      "outputs": []
    },
    {
      "cell_type": "code",
      "source": [
        "x=int(input())\n",
        "y=int(input())\n",
        "z=int(input())\n",
        "if ((x**2 + y**2 == z**2)or\n",
        "    (y**2 + z**2 == x**2)or\n",
        "    (z**2 + x**2 == y**2)):\n",
        "    print('yes')\n",
        "else:\n",
        "    print('no')"
      ],
      "metadata": {
        "id": "Rf9pH2qql6HL"
      },
      "execution_count": null,
      "outputs": []
    }
  ]
}