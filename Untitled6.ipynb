{
  "nbformat": 4,
  "nbformat_minor": 0,
  "metadata": {
    "colab": {
      "provenance": []
    },
    "kernelspec": {
      "name": "python3",
      "display_name": "Python 3"
    },
    "language_info": {
      "name": "python"
    }
  },
  "cells": [
    {
      "cell_type": "code",
      "execution_count": 1,
      "metadata": {
        "colab": {
          "base_uri": "https://localhost:8080/"
        },
        "id": "_ZNlVFACdrs4",
        "outputId": "09983b14-813c-4879-eab2-f933c065a4f8"
      },
      "outputs": [
        {
          "output_type": "stream",
          "name": "stdout",
          "text": [
            "hello world\n"
          ]
        }
      ],
      "source": [
        "print('hello world')"
      ]
    },
    {
      "cell_type": "markdown",
      "source": [],
      "metadata": {
        "id": "UN3Y3d08nm7B"
      }
    },
    {
      "cell_type": "code",
      "source": [
        "a=22\n",
        "print(type(a))\n",
        "a=22.2\n",
        "print(type(a))"
      ],
      "metadata": {
        "colab": {
          "base_uri": "https://localhost:8080/"
        },
        "id": "iC3Xs084nn70",
        "outputId": "8bd78f4b-12a1-4b0c-efb0-eedd0cb5822a"
      },
      "execution_count": 3,
      "outputs": [
        {
          "output_type": "stream",
          "name": "stdout",
          "text": [
            "<class 'int'>\n",
            "<class 'float'>\n"
          ]
        }
      ]
    },
    {
      "cell_type": "code",
      "source": [
        "a=22\n",
        "print(type(a))"
      ],
      "metadata": {
        "colab": {
          "base_uri": "https://localhost:8080/"
        },
        "outputId": "a8f6dd73-0327-4aa6-f429-d9e0f5f3a83a",
        "id": "gt452O8mn8bU"
      },
      "execution_count": null,
      "outputs": [
        {
          "output_type": "stream",
          "name": "stdout",
          "text": [
            "<class 'int'>\n"
          ]
        }
      ]
    },
    {
      "cell_type": "code",
      "source": [
        "a=2\n",
        "b=3\n",
        "c=2+3\n",
        "print(f\"the result of sum two numbera:{a} and b:{b} is={c}\")"
      ],
      "metadata": {
        "colab": {
          "base_uri": "https://localhost:8080/"
        },
        "id": "T1QL3jkbvEXQ",
        "outputId": "a852284e-8b80-4b95-96ac-989cf4d33133"
      },
      "execution_count": 4,
      "outputs": [
        {
          "output_type": "stream",
          "name": "stdout",
          "text": [
            "the result of sum two numbera:2 and b:3 is=5\n"
          ]
        }
      ]
    },
    {
      "cell_type": "code",
      "source": [
        "class_over =3pm\n",
        "dinner = 5pm\n",
        "late= stop taking anyone  class class over{3},"
      ],
      "metadata": {
        "id": "icpOgxQ0yz7x"
      },
      "execution_count": null,
      "outputs": []
    }
  ]
}